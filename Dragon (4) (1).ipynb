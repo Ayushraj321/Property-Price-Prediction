{
 "cells": [
  {
   "cell_type": "markdown",
   "id": "b9b706e8-669b-452c-968a-d8b4ea5bae1a",
   "metadata": {},
   "source": [
    "## Dragon Real Estate - Price Predictor"
   ]
  },
  {
   "cell_type": "code",
   "execution_count": 1,
   "id": "1dfc80b4-95a7-4b7f-8b8c-d042e6103438",
   "metadata": {},
   "outputs": [],
   "source": [
    "import os"
   ]
  },
  {
   "cell_type": "code",
   "execution_count": 2,
   "id": "c539a1c9-65e4-45ab-8ec6-af5591b67065",
   "metadata": {},
   "outputs": [
    {
     "data": {
      "text/plain": [
       "'C:\\\\Users\\\\KIIT'"
      ]
     },
     "execution_count": 2,
     "metadata": {},
     "output_type": "execute_result"
    }
   ],
   "source": [
    "os.getcwd()"
   ]
  },
  {
   "cell_type": "code",
   "execution_count": 3,
   "id": "d9996700-5080-4cb6-930e-21b5504e1a4c",
   "metadata": {},
   "outputs": [],
   "source": [
    "import pandas as pd"
   ]
  },
  {
   "cell_type": "code",
   "execution_count": 4,
   "id": "6a8a934a-94d6-49f7-9cca-dcdafc73f00d",
   "metadata": {},
   "outputs": [],
   "source": [
    "path = 'C:\\\\Users\\\\KIIT\\\\Desktop\\\\machinelearning\\\\'"
   ]
  },
  {
   "cell_type": "code",
   "execution_count": 5,
   "id": "aa0875a9-2c02-4b8f-b419-856f13b40c68",
   "metadata": {},
   "outputs": [],
   "source": [
    "housing = pd.read_csv(path+\"Book.csv\")"
   ]
  },
  {
   "cell_type": "code",
   "execution_count": 6,
   "id": "cf0786c9-fd20-4b06-8d97-3344b344856f",
   "metadata": {},
   "outputs": [
    {
     "data": {
      "text/html": [
       "<div>\n",
       "<style scoped>\n",
       "    .dataframe tbody tr th:only-of-type {\n",
       "        vertical-align: middle;\n",
       "    }\n",
       "\n",
       "    .dataframe tbody tr th {\n",
       "        vertical-align: top;\n",
       "    }\n",
       "\n",
       "    .dataframe thead th {\n",
       "        text-align: right;\n",
       "    }\n",
       "</style>\n",
       "<table border=\"1\" class=\"dataframe\">\n",
       "  <thead>\n",
       "    <tr style=\"text-align: right;\">\n",
       "      <th></th>\n",
       "      <th>CRIM</th>\n",
       "      <th>ZN</th>\n",
       "      <th>INDUS</th>\n",
       "      <th>CHAS</th>\n",
       "      <th>NOX</th>\n",
       "      <th>RM</th>\n",
       "      <th>AGE</th>\n",
       "      <th>DIS</th>\n",
       "      <th>RAD</th>\n",
       "      <th>TAX</th>\n",
       "      <th>PTRATIO</th>\n",
       "      <th>B</th>\n",
       "      <th>LSTAT</th>\n",
       "      <th>MEDV</th>\n",
       "    </tr>\n",
       "  </thead>\n",
       "  <tbody>\n",
       "    <tr>\n",
       "      <th>0</th>\n",
       "      <td>0.00632</td>\n",
       "      <td>18</td>\n",
       "      <td>2.31</td>\n",
       "      <td>0</td>\n",
       "      <td>0.538</td>\n",
       "      <td>6.575</td>\n",
       "      <td>65.2</td>\n",
       "      <td>4.09</td>\n",
       "      <td>1</td>\n",
       "      <td>296</td>\n",
       "      <td>15.3</td>\n",
       "      <td>396.9</td>\n",
       "      <td>4.98</td>\n",
       "      <td>24.00</td>\n",
       "    </tr>\n",
       "    <tr>\n",
       "      <th>1</th>\n",
       "      <td>0.00632</td>\n",
       "      <td>18</td>\n",
       "      <td>2.31</td>\n",
       "      <td>0</td>\n",
       "      <td>0.538</td>\n",
       "      <td>6.575</td>\n",
       "      <td>65.2</td>\n",
       "      <td>4.09</td>\n",
       "      <td>1</td>\n",
       "      <td>296</td>\n",
       "      <td>15.3</td>\n",
       "      <td>396.9</td>\n",
       "      <td>4.98</td>\n",
       "      <td>24.01</td>\n",
       "    </tr>\n",
       "    <tr>\n",
       "      <th>2</th>\n",
       "      <td>0.00632</td>\n",
       "      <td>18</td>\n",
       "      <td>2.31</td>\n",
       "      <td>0</td>\n",
       "      <td>0.538</td>\n",
       "      <td>6.575</td>\n",
       "      <td>65.2</td>\n",
       "      <td>4.09</td>\n",
       "      <td>1</td>\n",
       "      <td>296</td>\n",
       "      <td>15.3</td>\n",
       "      <td>396.9</td>\n",
       "      <td>4.98</td>\n",
       "      <td>24.02</td>\n",
       "    </tr>\n",
       "    <tr>\n",
       "      <th>3</th>\n",
       "      <td>0.00632</td>\n",
       "      <td>18</td>\n",
       "      <td>2.31</td>\n",
       "      <td>0</td>\n",
       "      <td>0.538</td>\n",
       "      <td>6.575</td>\n",
       "      <td>65.2</td>\n",
       "      <td>4.09</td>\n",
       "      <td>1</td>\n",
       "      <td>296</td>\n",
       "      <td>15.3</td>\n",
       "      <td>396.9</td>\n",
       "      <td>4.98</td>\n",
       "      <td>24.03</td>\n",
       "    </tr>\n",
       "    <tr>\n",
       "      <th>4</th>\n",
       "      <td>0.00632</td>\n",
       "      <td>18</td>\n",
       "      <td>2.31</td>\n",
       "      <td>0</td>\n",
       "      <td>0.538</td>\n",
       "      <td>6.575</td>\n",
       "      <td>65.2</td>\n",
       "      <td>4.09</td>\n",
       "      <td>1</td>\n",
       "      <td>296</td>\n",
       "      <td>15.3</td>\n",
       "      <td>396.9</td>\n",
       "      <td>4.98</td>\n",
       "      <td>24.04</td>\n",
       "    </tr>\n",
       "  </tbody>\n",
       "</table>\n",
       "</div>"
      ],
      "text/plain": [
       "      CRIM  ZN  INDUS  CHAS    NOX     RM   AGE   DIS  RAD  TAX  PTRATIO  \\\n",
       "0  0.00632  18   2.31     0  0.538  6.575  65.2  4.09    1  296     15.3   \n",
       "1  0.00632  18   2.31     0  0.538  6.575  65.2  4.09    1  296     15.3   \n",
       "2  0.00632  18   2.31     0  0.538  6.575  65.2  4.09    1  296     15.3   \n",
       "3  0.00632  18   2.31     0  0.538  6.575  65.2  4.09    1  296     15.3   \n",
       "4  0.00632  18   2.31     0  0.538  6.575  65.2  4.09    1  296     15.3   \n",
       "\n",
       "       B  LSTAT   MEDV  \n",
       "0  396.9   4.98  24.00  \n",
       "1  396.9   4.98  24.01  \n",
       "2  396.9   4.98  24.02  \n",
       "3  396.9   4.98  24.03  \n",
       "4  396.9   4.98  24.04  "
      ]
     },
     "execution_count": 6,
     "metadata": {},
     "output_type": "execute_result"
    }
   ],
   "source": [
    "housing.head()"
   ]
  },
  {
   "cell_type": "code",
   "execution_count": 7,
   "id": "b734feea-1d15-4dd4-a5aa-ae6eb78d3256",
   "metadata": {},
   "outputs": [
    {
     "name": "stdout",
     "output_type": "stream",
     "text": [
      "<class 'pandas.core.frame.DataFrame'>\n",
      "RangeIndex: 506 entries, 0 to 505\n",
      "Data columns (total 14 columns):\n",
      " #   Column   Non-Null Count  Dtype  \n",
      "---  ------   --------------  -----  \n",
      " 0   CRIM     506 non-null    float64\n",
      " 1   ZN       506 non-null    int64  \n",
      " 2   INDUS    506 non-null    float64\n",
      " 3   CHAS     506 non-null    int64  \n",
      " 4   NOX      506 non-null    float64\n",
      " 5   RM       506 non-null    float64\n",
      " 6   AGE      506 non-null    float64\n",
      " 7   DIS      506 non-null    float64\n",
      " 8   RAD      506 non-null    int64  \n",
      " 9   TAX      506 non-null    int64  \n",
      " 10  PTRATIO  506 non-null    float64\n",
      " 11  B        506 non-null    float64\n",
      " 12  LSTAT    506 non-null    float64\n",
      " 13  MEDV     506 non-null    float64\n",
      "dtypes: float64(10), int64(4)\n",
      "memory usage: 55.5 KB\n"
     ]
    }
   ],
   "source": [
    "housing.info()"
   ]
  },
  {
   "cell_type": "code",
   "execution_count": 8,
   "id": "520efc29-7fe3-45ac-9d3f-4f2a2b651c5c",
   "metadata": {},
   "outputs": [
    {
     "data": {
      "text/html": [
       "<div>\n",
       "<style scoped>\n",
       "    .dataframe tbody tr th:only-of-type {\n",
       "        vertical-align: middle;\n",
       "    }\n",
       "\n",
       "    .dataframe tbody tr th {\n",
       "        vertical-align: top;\n",
       "    }\n",
       "\n",
       "    .dataframe thead th {\n",
       "        text-align: right;\n",
       "    }\n",
       "</style>\n",
       "<table border=\"1\" class=\"dataframe\">\n",
       "  <thead>\n",
       "    <tr style=\"text-align: right;\">\n",
       "      <th></th>\n",
       "      <th>CRIM</th>\n",
       "      <th>ZN</th>\n",
       "      <th>INDUS</th>\n",
       "      <th>CHAS</th>\n",
       "      <th>NOX</th>\n",
       "      <th>RM</th>\n",
       "      <th>AGE</th>\n",
       "      <th>DIS</th>\n",
       "      <th>RAD</th>\n",
       "      <th>TAX</th>\n",
       "      <th>PTRATIO</th>\n",
       "      <th>B</th>\n",
       "      <th>LSTAT</th>\n",
       "      <th>MEDV</th>\n",
       "    </tr>\n",
       "  </thead>\n",
       "  <tbody>\n",
       "    <tr>\n",
       "      <th>count</th>\n",
       "      <td>5.060000e+02</td>\n",
       "      <td>506.0</td>\n",
       "      <td>506.00</td>\n",
       "      <td>506.0</td>\n",
       "      <td>5.060000e+02</td>\n",
       "      <td>5.060000e+02</td>\n",
       "      <td>5.060000e+02</td>\n",
       "      <td>5.060000e+02</td>\n",
       "      <td>506.0</td>\n",
       "      <td>506.0</td>\n",
       "      <td>5.060000e+02</td>\n",
       "      <td>5.060000e+02</td>\n",
       "      <td>5.060000e+02</td>\n",
       "      <td>506.000000</td>\n",
       "    </tr>\n",
       "    <tr>\n",
       "      <th>mean</th>\n",
       "      <td>6.320000e-03</td>\n",
       "      <td>18.0</td>\n",
       "      <td>2.31</td>\n",
       "      <td>0.0</td>\n",
       "      <td>5.380000e-01</td>\n",
       "      <td>6.575000e+00</td>\n",
       "      <td>6.520000e+01</td>\n",
       "      <td>4.090000e+00</td>\n",
       "      <td>1.0</td>\n",
       "      <td>296.0</td>\n",
       "      <td>1.530000e+01</td>\n",
       "      <td>3.969000e+02</td>\n",
       "      <td>4.980000e+00</td>\n",
       "      <td>24.340543</td>\n",
       "    </tr>\n",
       "    <tr>\n",
       "      <th>std</th>\n",
       "      <td>2.604660e-18</td>\n",
       "      <td>0.0</td>\n",
       "      <td>0.00</td>\n",
       "      <td>0.0</td>\n",
       "      <td>1.111322e-16</td>\n",
       "      <td>8.890574e-16</td>\n",
       "      <td>1.422492e-14</td>\n",
       "      <td>1.778115e-15</td>\n",
       "      <td>0.0</td>\n",
       "      <td>0.0</td>\n",
       "      <td>1.778115e-15</td>\n",
       "      <td>5.689967e-14</td>\n",
       "      <td>1.778115e-15</td>\n",
       "      <td>0.182842</td>\n",
       "    </tr>\n",
       "    <tr>\n",
       "      <th>min</th>\n",
       "      <td>6.320000e-03</td>\n",
       "      <td>18.0</td>\n",
       "      <td>2.31</td>\n",
       "      <td>0.0</td>\n",
       "      <td>5.380000e-01</td>\n",
       "      <td>6.575000e+00</td>\n",
       "      <td>6.520000e+01</td>\n",
       "      <td>4.090000e+00</td>\n",
       "      <td>1.0</td>\n",
       "      <td>296.0</td>\n",
       "      <td>1.530000e+01</td>\n",
       "      <td>3.969000e+02</td>\n",
       "      <td>4.980000e+00</td>\n",
       "      <td>24.000000</td>\n",
       "    </tr>\n",
       "    <tr>\n",
       "      <th>25%</th>\n",
       "      <td>6.320000e-03</td>\n",
       "      <td>18.0</td>\n",
       "      <td>2.31</td>\n",
       "      <td>0.0</td>\n",
       "      <td>5.380000e-01</td>\n",
       "      <td>6.575000e+00</td>\n",
       "      <td>6.520000e+01</td>\n",
       "      <td>4.090000e+00</td>\n",
       "      <td>1.0</td>\n",
       "      <td>296.0</td>\n",
       "      <td>1.530000e+01</td>\n",
       "      <td>3.969000e+02</td>\n",
       "      <td>4.980000e+00</td>\n",
       "      <td>24.205250</td>\n",
       "    </tr>\n",
       "    <tr>\n",
       "      <th>50%</th>\n",
       "      <td>6.320000e-03</td>\n",
       "      <td>18.0</td>\n",
       "      <td>2.31</td>\n",
       "      <td>0.0</td>\n",
       "      <td>5.380000e-01</td>\n",
       "      <td>6.575000e+00</td>\n",
       "      <td>6.520000e+01</td>\n",
       "      <td>4.090000e+00</td>\n",
       "      <td>1.0</td>\n",
       "      <td>296.0</td>\n",
       "      <td>1.530000e+01</td>\n",
       "      <td>3.969000e+02</td>\n",
       "      <td>4.980000e+00</td>\n",
       "      <td>24.320000</td>\n",
       "    </tr>\n",
       "    <tr>\n",
       "      <th>75%</th>\n",
       "      <td>6.320000e-03</td>\n",
       "      <td>18.0</td>\n",
       "      <td>2.31</td>\n",
       "      <td>0.0</td>\n",
       "      <td>5.380000e-01</td>\n",
       "      <td>6.575000e+00</td>\n",
       "      <td>6.520000e+01</td>\n",
       "      <td>4.090000e+00</td>\n",
       "      <td>1.0</td>\n",
       "      <td>296.0</td>\n",
       "      <td>1.530000e+01</td>\n",
       "      <td>3.969000e+02</td>\n",
       "      <td>4.980000e+00</td>\n",
       "      <td>24.434750</td>\n",
       "    </tr>\n",
       "    <tr>\n",
       "      <th>max</th>\n",
       "      <td>6.320000e-03</td>\n",
       "      <td>18.0</td>\n",
       "      <td>2.31</td>\n",
       "      <td>0.0</td>\n",
       "      <td>5.380000e-01</td>\n",
       "      <td>6.575000e+00</td>\n",
       "      <td>6.520000e+01</td>\n",
       "      <td>4.090000e+00</td>\n",
       "      <td>1.0</td>\n",
       "      <td>296.0</td>\n",
       "      <td>1.530000e+01</td>\n",
       "      <td>3.969000e+02</td>\n",
       "      <td>4.980000e+00</td>\n",
       "      <td>24.990000</td>\n",
       "    </tr>\n",
       "  </tbody>\n",
       "</table>\n",
       "</div>"
      ],
      "text/plain": [
       "               CRIM     ZN   INDUS   CHAS           NOX            RM  \\\n",
       "count  5.060000e+02  506.0  506.00  506.0  5.060000e+02  5.060000e+02   \n",
       "mean   6.320000e-03   18.0    2.31    0.0  5.380000e-01  6.575000e+00   \n",
       "std    2.604660e-18    0.0    0.00    0.0  1.111322e-16  8.890574e-16   \n",
       "min    6.320000e-03   18.0    2.31    0.0  5.380000e-01  6.575000e+00   \n",
       "25%    6.320000e-03   18.0    2.31    0.0  5.380000e-01  6.575000e+00   \n",
       "50%    6.320000e-03   18.0    2.31    0.0  5.380000e-01  6.575000e+00   \n",
       "75%    6.320000e-03   18.0    2.31    0.0  5.380000e-01  6.575000e+00   \n",
       "max    6.320000e-03   18.0    2.31    0.0  5.380000e-01  6.575000e+00   \n",
       "\n",
       "                AGE           DIS    RAD    TAX       PTRATIO             B  \\\n",
       "count  5.060000e+02  5.060000e+02  506.0  506.0  5.060000e+02  5.060000e+02   \n",
       "mean   6.520000e+01  4.090000e+00    1.0  296.0  1.530000e+01  3.969000e+02   \n",
       "std    1.422492e-14  1.778115e-15    0.0    0.0  1.778115e-15  5.689967e-14   \n",
       "min    6.520000e+01  4.090000e+00    1.0  296.0  1.530000e+01  3.969000e+02   \n",
       "25%    6.520000e+01  4.090000e+00    1.0  296.0  1.530000e+01  3.969000e+02   \n",
       "50%    6.520000e+01  4.090000e+00    1.0  296.0  1.530000e+01  3.969000e+02   \n",
       "75%    6.520000e+01  4.090000e+00    1.0  296.0  1.530000e+01  3.969000e+02   \n",
       "max    6.520000e+01  4.090000e+00    1.0  296.0  1.530000e+01  3.969000e+02   \n",
       "\n",
       "              LSTAT        MEDV  \n",
       "count  5.060000e+02  506.000000  \n",
       "mean   4.980000e+00   24.340543  \n",
       "std    1.778115e-15    0.182842  \n",
       "min    4.980000e+00   24.000000  \n",
       "25%    4.980000e+00   24.205250  \n",
       "50%    4.980000e+00   24.320000  \n",
       "75%    4.980000e+00   24.434750  \n",
       "max    4.980000e+00   24.990000  "
      ]
     },
     "execution_count": 8,
     "metadata": {},
     "output_type": "execute_result"
    }
   ],
   "source": [
    "housing.describe()"
   ]
  },
  {
   "cell_type": "code",
   "execution_count": 9,
   "id": "ba715e65-a2f8-4457-b2ba-5d008c4f35bb",
   "metadata": {},
   "outputs": [],
   "source": [
    "%matplotlib inline"
   ]
  },
  {
   "cell_type": "code",
   "execution_count": 10,
   "id": "081c7bd2-274f-48f4-aadb-7a5276472821",
   "metadata": {},
   "outputs": [],
   "source": [
    "#import matplotlib.pyplot as plt\n",
    "#housing.hist(bins=50, figsize=(20 ,15))"
   ]
  },
  {
   "cell_type": "markdown",
   "id": "b6fff98d-07f7-4ad8-8db4-2275433cf065",
   "metadata": {},
   "source": [
    "## Train Test Splitting"
   ]
  },
  {
   "cell_type": "code",
   "execution_count": 11,
   "id": "c3031508-9b9d-4eed-b848-fcee1333c8a9",
   "metadata": {},
   "outputs": [],
   "source": [
    "#For learning purpose\n",
    "import numpy as np\n",
    "def split_train_test(data, test_ratio):\n",
    "    np.random.seed(42)\n",
    "    shuffled = np.random.permutation(len(data))\n",
    "    test_set_size = int(len(data)* test_ratio)\n",
    "    test_indices = shuffled[:test_set_size]\n",
    "    train_indices = shuffled[test_set_size:]\n",
    "    return data.iloc[train_indices], data.iloc[test_indices]\n",
    "    "
   ]
  },
  {
   "cell_type": "code",
   "execution_count": 12,
   "id": "493914ac-2a11-44ef-8aab-d9bd12c2cff2",
   "metadata": {},
   "outputs": [],
   "source": [
    "# train_set, test_set = split_train_test(housing, 0.2)"
   ]
  },
  {
   "cell_type": "code",
   "execution_count": 13,
   "id": "ff06efb7-af17-4897-a6f3-67baa8525631",
   "metadata": {},
   "outputs": [],
   "source": [
    "#print(f\"Rows in train set: {len(train_set)}\\nRows in test set: {len(test_set)}\\n\")"
   ]
  },
  {
   "cell_type": "code",
   "execution_count": 14,
   "id": "6b497941-79c6-44fc-8284-d23982bbc890",
   "metadata": {},
   "outputs": [
    {
     "name": "stdout",
     "output_type": "stream",
     "text": [
      "Rows in train set: 404\n",
      "Rows in test set: 102\n",
      "\n"
     ]
    }
   ],
   "source": [
    "from sklearn.model_selection import train_test_split\n",
    "train_set, test_set = train_test_split(housing, test_size=0.2, random_state=42)\n",
    "print(f\"Rows in train set: {len(train_set)}\\nRows in test set: {len(test_set)}\\n\")"
   ]
  },
  {
   "cell_type": "code",
   "execution_count": 15,
   "id": "a65c2f31-b2b9-4577-a0a5-d121999d954d",
   "metadata": {},
   "outputs": [],
   "source": [
    "from sklearn.model_selection import StratifiedShuffleSplit\n",
    "split = StratifiedShuffleSplit(n_splits=1, test_size=0.2, random_state=42)\n",
    "for train_index, test_index in split.split(housing, housing['CHAS']):\n",
    "    strat_train_set = housing.loc[train_index]\n",
    "    strat_test_set = housing.loc[test_index]\n"
   ]
  },
  {
   "cell_type": "code",
   "execution_count": 16,
   "id": "2c0456fe-a9d1-4b4a-8f4c-2cb02346976a",
   "metadata": {},
   "outputs": [
    {
     "data": {
      "text/plain": [
       "CHAS\n",
       "0    102\n",
       "Name: count, dtype: int64"
      ]
     },
     "execution_count": 16,
     "metadata": {},
     "output_type": "execute_result"
    }
   ],
   "source": [
    "strat_test_set['CHAS'].value_counts()"
   ]
  },
  {
   "cell_type": "code",
   "execution_count": 17,
   "id": "fd00f32e-2564-437c-b102-734c8211dbdf",
   "metadata": {},
   "outputs": [
    {
     "data": {
      "text/plain": [
       "CHAS\n",
       "0    404\n",
       "Name: count, dtype: int64"
      ]
     },
     "execution_count": 17,
     "metadata": {},
     "output_type": "execute_result"
    }
   ],
   "source": [
    "strat_train_set['CHAS'].value_counts()"
   ]
  },
  {
   "cell_type": "code",
   "execution_count": 18,
   "id": "ed8599c5-c331-4938-bafb-1e2408feb8d9",
   "metadata": {},
   "outputs": [],
   "source": [
    "# 95/7"
   ]
  },
  {
   "cell_type": "code",
   "execution_count": 19,
   "id": "52c13abd-f8d9-4380-830e-a3e3e98c87e6",
   "metadata": {},
   "outputs": [],
   "source": [
    "# 378/28"
   ]
  },
  {
   "cell_type": "code",
   "execution_count": 20,
   "id": "88dee08a-8da9-45f4-bd82-3fdaa5bb3759",
   "metadata": {},
   "outputs": [],
   "source": [
    "housing = strat_train_set.copy()"
   ]
  },
  {
   "cell_type": "markdown",
   "id": "e1cb7191-f276-405e-9d26-4c50ae5c3071",
   "metadata": {},
   "source": [
    "## Looking for Correlations"
   ]
  },
  {
   "cell_type": "code",
   "execution_count": 21,
   "id": "197b9379-9bc6-4468-9f0e-972d3462c9e9",
   "metadata": {},
   "outputs": [
    {
     "data": {
      "text/plain": [
       "MEDV       1.0\n",
       "CRIM       NaN\n",
       "ZN         NaN\n",
       "INDUS      NaN\n",
       "CHAS       NaN\n",
       "NOX        NaN\n",
       "RM         NaN\n",
       "AGE        NaN\n",
       "DIS        NaN\n",
       "RAD        NaN\n",
       "TAX        NaN\n",
       "PTRATIO    NaN\n",
       "B          NaN\n",
       "LSTAT      NaN\n",
       "Name: MEDV, dtype: float64"
      ]
     },
     "execution_count": 21,
     "metadata": {},
     "output_type": "execute_result"
    }
   ],
   "source": [
    "corr_matrix = housing.corr()\n",
    "corr_matrix['MEDV'].sort_values(ascending=False)"
   ]
  },
  {
   "cell_type": "code",
   "execution_count": 22,
   "id": "50102b9c-b0da-40b0-be07-75639e2c58fb",
   "metadata": {},
   "outputs": [
    {
     "name": "stderr",
     "output_type": "stream",
     "text": [
      "C:\\Users\\KIIT\\AppData\\Local\\Programs\\Python\\Python311\\Lib\\site-packages\\pandas\\plotting\\_matplotlib\\misc.py:100: UserWarning: Attempting to set identical low and high xlims makes transformation singular; automatically expanding.\n",
      "  ax.set_xlim(boundaries_list[j])\n",
      "C:\\Users\\KIIT\\AppData\\Local\\Programs\\Python\\Python311\\Lib\\site-packages\\pandas\\plotting\\_matplotlib\\misc.py:101: UserWarning: Attempting to set identical low and high ylims makes transformation singular; automatically expanding.\n",
      "  ax.set_ylim(boundaries_list[i])\n",
      "C:\\Users\\KIIT\\AppData\\Local\\Programs\\Python\\Python311\\Lib\\site-packages\\pandas\\plotting\\_matplotlib\\misc.py:91: UserWarning: Attempting to set identical low and high xlims makes transformation singular; automatically expanding.\n",
      "  ax.set_xlim(boundaries_list[i])\n"
     ]
    },
    {
     "data": {
      "text/plain": [
       "array([[<Axes: xlabel='MEDV', ylabel='MEDV'>,\n",
       "        <Axes: xlabel='RM', ylabel='MEDV'>,\n",
       "        <Axes: xlabel='ZN', ylabel='MEDV'>,\n",
       "        <Axes: xlabel='LSTAT', ylabel='MEDV'>],\n",
       "       [<Axes: xlabel='MEDV', ylabel='RM'>,\n",
       "        <Axes: xlabel='RM', ylabel='RM'>,\n",
       "        <Axes: xlabel='ZN', ylabel='RM'>,\n",
       "        <Axes: xlabel='LSTAT', ylabel='RM'>],\n",
       "       [<Axes: xlabel='MEDV', ylabel='ZN'>,\n",
       "        <Axes: xlabel='RM', ylabel='ZN'>,\n",
       "        <Axes: xlabel='ZN', ylabel='ZN'>,\n",
       "        <Axes: xlabel='LSTAT', ylabel='ZN'>],\n",
       "       [<Axes: xlabel='MEDV', ylabel='LSTAT'>,\n",
       "        <Axes: xlabel='RM', ylabel='LSTAT'>,\n",
       "        <Axes: xlabel='ZN', ylabel='LSTAT'>,\n",
       "        <Axes: xlabel='LSTAT', ylabel='LSTAT'>]], dtype=object)"
      ]
     },
     "execution_count": 22,
     "metadata": {},
     "output_type": "execute_result"
    },
    {
     "data": {
      "image/png": "[encoded data removed]",
      "text/plain": [
       "<Figure size 1200x800 with 16 Axes>"
      ]
     },
     "metadata": {},
     "output_type": "display_data"
    }
   ],
   "source": [
    "from pandas.plotting import scatter_matrix\n",
    "attributes = [ \"MEDV\", \"RM\", \"ZN\", \"LSTAT\"]\n",
    "scatter_matrix(housing[attributes],figsize = (12,8))\n"
   ]
  },
  {
   "cell_type": "code",
   "execution_count": 23,
   "id": "bc103481-ade3-4c28-bdea-a70bc85f0a23",
   "metadata": {},
   "outputs": [
    {
     "data": {
      "text/plain": [
       "<Axes: xlabel='RM', ylabel='MEDV'>"
      ]
     },
     "execution_count": 23,
     "metadata": {},
     "output_type": "execute_result"
    },
    {
     "data": {
      "image/png": "[encoded data removed]",
      "text/plain": [
       "<Figure size 640x480 with 1 Axes>"
      ]
     },
     "metadata": {},
     "output_type": "display_data"
    }
   ],
   "source": [
    "housing.plot(kind=\"scatter\", x=\"RM\", y=\"MEDV\", alpha=0.8)"
   ]
  },
  {
   "cell_type": "markdown",
   "id": "9520c0c8-d1ca-44f2-9834-14c11b22e75e",
   "metadata": {},
   "source": [
    "## Trying Out Attributes Combination"
   ]
  },
  {
   "cell_type": "code",
   "execution_count": 24,
   "id": "5d514731-1b15-440b-b186-4f88eb1156d5",
   "metadata": {},
   "outputs": [],
   "source": [
    "housing[\"TAXRM\"] = housing['TAX']/housing['RM']"
   ]
  },
  {
   "cell_type": "code",
   "execution_count": 25,
   "id": "4b740208-44cb-4ebf-9587-e16263e2d488",
   "metadata": {},
   "outputs": [
    {
     "data": {
      "text/html": [
       "<div>\n",
       "<style scoped>\n",
       "    .dataframe tbody tr th:only-of-type {\n",
       "        vertical-align: middle;\n",
       "    }\n",
       "\n",
       "    .dataframe tbody tr th {\n",
       "        vertical-align: top;\n",
       "    }\n",
       "\n",
       "    .dataframe thead th {\n",
       "        text-align: right;\n",
       "    }\n",
       "</style>\n",
       "<table border=\"1\" class=\"dataframe\">\n",
       "  <thead>\n",
       "    <tr style=\"text-align: right;\">\n",
       "      <th></th>\n",
       "      <th>CRIM</th>\n",
       "      <th>ZN</th>\n",
       "      <th>INDUS</th>\n",
       "      <th>CHAS</th>\n",
       "      <th>NOX</th>\n",
       "      <th>RM</th>\n",
       "      <th>AGE</th>\n",
       "      <th>DIS</th>\n",
       "      <th>RAD</th>\n",
       "      <th>TAX</th>\n",
       "      <th>PTRATIO</th>\n",
       "      <th>B</th>\n",
       "      <th>LSTAT</th>\n",
       "      <th>MEDV</th>\n",
       "      <th>TAXRM</th>\n",
       "    </tr>\n",
       "  </thead>\n",
       "  <tbody>\n",
       "    <tr>\n",
       "      <th>242</th>\n",
       "      <td>0.00632</td>\n",
       "      <td>18</td>\n",
       "      <td>2.31</td>\n",
       "      <td>0</td>\n",
       "      <td>0.538</td>\n",
       "      <td>6.575</td>\n",
       "      <td>65.2</td>\n",
       "      <td>4.09</td>\n",
       "      <td>1</td>\n",
       "      <td>296</td>\n",
       "      <td>15.3</td>\n",
       "      <td>396.9</td>\n",
       "      <td>4.98</td>\n",
       "      <td>24.242</td>\n",
       "      <td>45.019011</td>\n",
       "    </tr>\n",
       "    <tr>\n",
       "      <th>354</th>\n",
       "      <td>0.00632</td>\n",
       "      <td>18</td>\n",
       "      <td>2.31</td>\n",
       "      <td>0</td>\n",
       "      <td>0.538</td>\n",
       "      <td>6.575</td>\n",
       "      <td>65.2</td>\n",
       "      <td>4.09</td>\n",
       "      <td>1</td>\n",
       "      <td>296</td>\n",
       "      <td>15.3</td>\n",
       "      <td>396.9</td>\n",
       "      <td>4.98</td>\n",
       "      <td>24.354</td>\n",
       "      <td>45.019011</td>\n",
       "    </tr>\n",
       "    <tr>\n",
       "      <th>44</th>\n",
       "      <td>0.00632</td>\n",
       "      <td>18</td>\n",
       "      <td>2.31</td>\n",
       "      <td>0</td>\n",
       "      <td>0.538</td>\n",
       "      <td>6.575</td>\n",
       "      <td>65.2</td>\n",
       "      <td>4.09</td>\n",
       "      <td>1</td>\n",
       "      <td>296</td>\n",
       "      <td>15.3</td>\n",
       "      <td>396.9</td>\n",
       "      <td>4.98</td>\n",
       "      <td>24.440</td>\n",
       "      <td>45.019011</td>\n",
       "    </tr>\n",
       "    <tr>\n",
       "      <th>177</th>\n",
       "      <td>0.00632</td>\n",
       "      <td>18</td>\n",
       "      <td>2.31</td>\n",
       "      <td>0</td>\n",
       "      <td>0.538</td>\n",
       "      <td>6.575</td>\n",
       "      <td>65.2</td>\n",
       "      <td>4.09</td>\n",
       "      <td>1</td>\n",
       "      <td>296</td>\n",
       "      <td>15.3</td>\n",
       "      <td>396.9</td>\n",
       "      <td>4.98</td>\n",
       "      <td>24.177</td>\n",
       "      <td>45.019011</td>\n",
       "    </tr>\n",
       "    <tr>\n",
       "      <th>73</th>\n",
       "      <td>0.00632</td>\n",
       "      <td>18</td>\n",
       "      <td>2.31</td>\n",
       "      <td>0</td>\n",
       "      <td>0.538</td>\n",
       "      <td>6.575</td>\n",
       "      <td>65.2</td>\n",
       "      <td>4.09</td>\n",
       "      <td>1</td>\n",
       "      <td>296</td>\n",
       "      <td>15.3</td>\n",
       "      <td>396.9</td>\n",
       "      <td>4.98</td>\n",
       "      <td>24.730</td>\n",
       "      <td>45.019011</td>\n",
       "    </tr>\n",
       "  </tbody>\n",
       "</table>\n",
       "</div>"
      ],
      "text/plain": [
       "        CRIM  ZN  INDUS  CHAS    NOX     RM   AGE   DIS  RAD  TAX  PTRATIO  \\\n",
       "242  0.00632  18   2.31     0  0.538  6.575  65.2  4.09    1  296     15.3   \n",
       "354  0.00632  18   2.31     0  0.538  6.575  65.2  4.09    1  296     15.3   \n",
       "44   0.00632  18   2.31     0  0.538  6.575  65.2  4.09    1  296     15.3   \n",
       "177  0.00632  18   2.31     0  0.538  6.575  65.2  4.09    1  296     15.3   \n",
       "73   0.00632  18   2.31     0  0.538  6.575  65.2  4.09    1  296     15.3   \n",
       "\n",
       "         B  LSTAT    MEDV      TAXRM  \n",
       "242  396.9   4.98  24.242  45.019011  \n",
       "354  396.9   4.98  24.354  45.019011  \n",
       "44   396.9   4.98  24.440  45.019011  \n",
       "177  396.9   4.98  24.177  45.019011  \n",
       "73   396.9   4.98  24.730  45.019011  "
      ]
     },
     "execution_count": 25,
     "metadata": {},
     "output_type": "execute_result"
    }
   ],
   "source": [
    "housing.head()"
   ]
  },
  {
   "cell_type": "code",
   "execution_count": 26,
   "id": "14af109a-d9e2-45d7-bc83-64e68c689fb9",
   "metadata": {},
   "outputs": [
    {
     "data": {
      "text/plain": [
       "MEDV       1.0\n",
       "CRIM       NaN\n",
       "ZN         NaN\n",
       "INDUS      NaN\n",
       "CHAS       NaN\n",
       "NOX        NaN\n",
       "RM         NaN\n",
       "AGE        NaN\n",
       "DIS        NaN\n",
       "RAD        NaN\n",
       "TAX        NaN\n",
       "PTRATIO    NaN\n",
       "B          NaN\n",
       "LSTAT      NaN\n",
       "TAXRM      NaN\n",
       "Name: MEDV, dtype: float64"
      ]
     },
     "execution_count": 26,
     "metadata": {},
     "output_type": "execute_result"
    }
   ],
   "source": [
    "corr_matrix = housing.corr()\n",
    "corr_matrix['MEDV'].sort_values(ascending=False)"
   ]
  },
  {
   "cell_type": "code",
   "execution_count": 27,
   "id": "5b1cc566-e819-4f3f-be1f-58fe36bb2bd8",
   "metadata": {},
   "outputs": [
    {
     "data": {
      "text/plain": [
       "<Axes: xlabel='TAXRM', ylabel='MEDV'>"
      ]
     },
     "execution_count": 27,
     "metadata": {},
     "output_type": "execute_result"
    },
    {
     "data": {
      "image/png": "[encoded data removed]",
      "text/plain": [
       "<Figure size 640x480 with 1 Axes>"
      ]
     },
     "metadata": {},
     "output_type": "display_data"
    }
   ],
   "source": [
    "housing.plot(kind=\"scatter\", x=\"TAXRM\", y=\"MEDV\", alpha=0.8)"
   ]
  },
  {
   "cell_type": "code",
   "execution_count": 28,
   "id": "f14a3a24-80a1-42bb-8536-6e14bd035de9",
   "metadata": {},
   "outputs": [
    {
     "data": {
      "text/plain": [
       "(404, 13)"
      ]
     },
     "execution_count": 28,
     "metadata": {},
     "output_type": "execute_result"
    }
   ],
   "source": [
    "housing = strat_train_set.drop(\"MEDV\", axis=1)\n",
    "housing_labels = strat_train_set[\"MEDV\"].copy()\n",
    "housing.shape"
   ]
  },
  {
   "cell_type": "code",
   "execution_count": 29,
   "id": "6d9dba91-9a70-43e2-87d6-405b497c686d",
   "metadata": {},
   "outputs": [],
   "source": [
    "housing = strat_train_set.drop(\"MEDV\",axis=1)\n",
    "housing_labels = strat_train_set[\"MEDV\"].copy()"
   ]
  },
  {
   "cell_type": "markdown",
   "id": "c19e68bb-4bae-4da4-a846-4fc514f8bbff",
   "metadata": {},
   "source": [
    "## Missing Attributes"
   ]
  },
  {
   "cell_type": "code",
   "execution_count": 30,
   "id": "6f2a74c3-1419-43f8-9da4-1f9408bdbf52",
   "metadata": {},
   "outputs": [],
   "source": [
    "# To take care of missing attributes, you have three options:\n",
    "# 1. Get rid of the missing data points\n",
    "# 2. Get rid of the whole attribute\n",
    "# 3. Set the value to some value(0, mean or median)"
   ]
  },
  {
   "cell_type": "code",
   "execution_count": 31,
   "id": "67d7a3de-ee72-41a2-a1b8-b1d310173c5c",
   "metadata": {},
   "outputs": [
    {
     "data": {
      "text/plain": [
       "(404, 13)"
      ]
     },
     "execution_count": 31,
     "metadata": {},
     "output_type": "execute_result"
    }
   ],
   "source": [
    "a = housing.dropna(subset=[\"RM\"]) \n",
    "a.shape"
   ]
  },
  {
   "cell_type": "code",
   "execution_count": 32,
   "id": "577fd050-da94-40af-94e1-ba677ef1b689",
   "metadata": {},
   "outputs": [
    {
     "data": {
      "text/plain": [
       "(404, 12)"
      ]
     },
     "execution_count": 32,
     "metadata": {},
     "output_type": "execute_result"
    }
   ],
   "source": [
    "housing.drop(\"RM\",axis=1).shape"
   ]
  },
  {
   "cell_type": "code",
   "execution_count": 33,
   "id": "17200247-0589-4417-978b-1b0f408f9e25",
   "metadata": {},
   "outputs": [
    {
     "data": {
      "text/plain": [
       "6.575"
      ]
     },
     "execution_count": 33,
     "metadata": {},
     "output_type": "execute_result"
    }
   ],
   "source": [
    "median = housing[\"RM\"].median()\n",
    "median"
   ]
  },
  {
   "cell_type": "code",
   "execution_count": 34,
   "id": "32a372ce-9da7-47d6-b5b5-44147331c8bf",
   "metadata": {},
   "outputs": [
    {
     "data": {
      "text/plain": [
       "242    6.575\n",
       "354    6.575\n",
       "44     6.575\n",
       "177    6.575\n",
       "73     6.575\n",
       "       ...  \n",
       "473    6.575\n",
       "72     6.575\n",
       "367    6.575\n",
       "198    6.575\n",
       "132    6.575\n",
       "Name: RM, Length: 404, dtype: float64"
      ]
     },
     "execution_count": 34,
     "metadata": {},
     "output_type": "execute_result"
    }
   ],
   "source": [
    "housing[\"RM\"].fillna(median)"
   ]
  },
  {
   "cell_type": "code",
   "execution_count": 35,
   "id": "c45d1f0c-e6bf-4a51-b5da-6949ed7487bb",
   "metadata": {},
   "outputs": [
    {
     "data": {
      "text/plain": [
       "(404, 13)"
      ]
     },
     "execution_count": 35,
     "metadata": {},
     "output_type": "execute_result"
    }
   ],
   "source": [
    "housing.shape"
   ]
  },
  {
   "cell_type": "code",
   "execution_count": 36,
   "id": "d1913e2b-8475-40ae-b533-4cd58e519fec",
   "metadata": {},
   "outputs": [
    {
     "data": {
      "text/html": [
       "<div>\n",
       "<style scoped>\n",
       "    .dataframe tbody tr th:only-of-type {\n",
       "        vertical-align: middle;\n",
       "    }\n",
       "\n",
       "    .dataframe tbody tr th {\n",
       "        vertical-align: top;\n",
       "    }\n",
       "\n",
       "    .dataframe thead th {\n",
       "        text-align: right;\n",
       "    }\n",
       "</style>\n",
       "<table border=\"1\" class=\"dataframe\">\n",
       "  <thead>\n",
       "    <tr style=\"text-align: right;\">\n",
       "      <th></th>\n",
       "      <th>CRIM</th>\n",
       "      <th>ZN</th>\n",
       "      <th>INDUS</th>\n",
       "      <th>CHAS</th>\n",
       "      <th>NOX</th>\n",
       "      <th>RM</th>\n",
       "      <th>AGE</th>\n",
       "      <th>DIS</th>\n",
       "      <th>RAD</th>\n",
       "      <th>TAX</th>\n",
       "      <th>PTRATIO</th>\n",
       "      <th>B</th>\n",
       "      <th>LSTAT</th>\n",
       "    </tr>\n",
       "  </thead>\n",
       "  <tbody>\n",
       "    <tr>\n",
       "      <th>count</th>\n",
       "      <td>4.040000e+02</td>\n",
       "      <td>404.0</td>\n",
       "      <td>4.040000e+02</td>\n",
       "      <td>404.0</td>\n",
       "      <td>4.040000e+02</td>\n",
       "      <td>4.040000e+02</td>\n",
       "      <td>4.040000e+02</td>\n",
       "      <td>4.040000e+02</td>\n",
       "      <td>404.0</td>\n",
       "      <td>404.0</td>\n",
       "      <td>4.040000e+02</td>\n",
       "      <td>4.040000e+02</td>\n",
       "      <td>4.040000e+02</td>\n",
       "    </tr>\n",
       "    <tr>\n",
       "      <th>mean</th>\n",
       "      <td>6.320000e-03</td>\n",
       "      <td>18.0</td>\n",
       "      <td>2.310000e+00</td>\n",
       "      <td>0.0</td>\n",
       "      <td>5.380000e-01</td>\n",
       "      <td>6.575000e+00</td>\n",
       "      <td>6.520000e+01</td>\n",
       "      <td>4.090000e+00</td>\n",
       "      <td>1.0</td>\n",
       "      <td>296.0</td>\n",
       "      <td>1.530000e+01</td>\n",
       "      <td>3.969000e+02</td>\n",
       "      <td>4.980000e+00</td>\n",
       "    </tr>\n",
       "    <tr>\n",
       "      <th>std</th>\n",
       "      <td>8.684372e-19</td>\n",
       "      <td>0.0</td>\n",
       "      <td>4.446398e-16</td>\n",
       "      <td>0.0</td>\n",
       "      <td>1.111600e-16</td>\n",
       "      <td>2.667839e-15</td>\n",
       "      <td>1.422848e-14</td>\n",
       "      <td>8.892797e-16</td>\n",
       "      <td>0.0</td>\n",
       "      <td>0.0</td>\n",
       "      <td>1.778559e-15</td>\n",
       "      <td>5.691390e-14</td>\n",
       "      <td>1.778559e-15</td>\n",
       "    </tr>\n",
       "    <tr>\n",
       "      <th>min</th>\n",
       "      <td>6.320000e-03</td>\n",
       "      <td>18.0</td>\n",
       "      <td>2.310000e+00</td>\n",
       "      <td>0.0</td>\n",
       "      <td>5.380000e-01</td>\n",
       "      <td>6.575000e+00</td>\n",
       "      <td>6.520000e+01</td>\n",
       "      <td>4.090000e+00</td>\n",
       "      <td>1.0</td>\n",
       "      <td>296.0</td>\n",
       "      <td>1.530000e+01</td>\n",
       "      <td>3.969000e+02</td>\n",
       "      <td>4.980000e+00</td>\n",
       "    </tr>\n",
       "    <tr>\n",
       "      <th>25%</th>\n",
       "      <td>6.320000e-03</td>\n",
       "      <td>18.0</td>\n",
       "      <td>2.310000e+00</td>\n",
       "      <td>0.0</td>\n",
       "      <td>5.380000e-01</td>\n",
       "      <td>6.575000e+00</td>\n",
       "      <td>6.520000e+01</td>\n",
       "      <td>4.090000e+00</td>\n",
       "      <td>1.0</td>\n",
       "      <td>296.0</td>\n",
       "      <td>1.530000e+01</td>\n",
       "      <td>3.969000e+02</td>\n",
       "      <td>4.980000e+00</td>\n",
       "    </tr>\n",
       "    <tr>\n",
       "      <th>50%</th>\n",
       "      <td>6.320000e-03</td>\n",
       "      <td>18.0</td>\n",
       "      <td>2.310000e+00</td>\n",
       "      <td>0.0</td>\n",
       "      <td>5.380000e-01</td>\n",
       "      <td>6.575000e+00</td>\n",
       "      <td>6.520000e+01</td>\n",
       "      <td>4.090000e+00</td>\n",
       "      <td>1.0</td>\n",
       "      <td>296.0</td>\n",
       "      <td>1.530000e+01</td>\n",
       "      <td>3.969000e+02</td>\n",
       "      <td>4.980000e+00</td>\n",
       "    </tr>\n",
       "    <tr>\n",
       "      <th>75%</th>\n",
       "      <td>6.320000e-03</td>\n",
       "      <td>18.0</td>\n",
       "      <td>2.310000e+00</td>\n",
       "      <td>0.0</td>\n",
       "      <td>5.380000e-01</td>\n",
       "      <td>6.575000e+00</td>\n",
       "      <td>6.520000e+01</td>\n",
       "      <td>4.090000e+00</td>\n",
       "      <td>1.0</td>\n",
       "      <td>296.0</td>\n",
       "      <td>1.530000e+01</td>\n",
       "      <td>3.969000e+02</td>\n",
       "      <td>4.980000e+00</td>\n",
       "    </tr>\n",
       "    <tr>\n",
       "      <th>max</th>\n",
       "      <td>6.320000e-03</td>\n",
       "      <td>18.0</td>\n",
       "      <td>2.310000e+00</td>\n",
       "      <td>0.0</td>\n",
       "      <td>5.380000e-01</td>\n",
       "      <td>6.575000e+00</td>\n",
       "      <td>6.520000e+01</td>\n",
       "      <td>4.090000e+00</td>\n",
       "      <td>1.0</td>\n",
       "      <td>296.0</td>\n",
       "      <td>1.530000e+01</td>\n",
       "      <td>3.969000e+02</td>\n",
       "      <td>4.980000e+00</td>\n",
       "    </tr>\n",
       "  </tbody>\n",
       "</table>\n",
       "</div>"
      ],
      "text/plain": [
       "               CRIM     ZN         INDUS   CHAS           NOX            RM  \\\n",
       "count  4.040000e+02  404.0  4.040000e+02  404.0  4.040000e+02  4.040000e+02   \n",
       "mean   6.320000e-03   18.0  2.310000e+00    0.0  5.380000e-01  6.575000e+00   \n",
       "std    8.684372e-19    0.0  4.446398e-16    0.0  1.111600e-16  2.667839e-15   \n",
       "min    6.320000e-03   18.0  2.310000e+00    0.0  5.380000e-01  6.575000e+00   \n",
       "25%    6.320000e-03   18.0  2.310000e+00    0.0  5.380000e-01  6.575000e+00   \n",
       "50%    6.320000e-03   18.0  2.310000e+00    0.0  5.380000e-01  6.575000e+00   \n",
       "75%    6.320000e-03   18.0  2.310000e+00    0.0  5.380000e-01  6.575000e+00   \n",
       "max    6.320000e-03   18.0  2.310000e+00    0.0  5.380000e-01  6.575000e+00   \n",
       "\n",
       "                AGE           DIS    RAD    TAX       PTRATIO             B  \\\n",
       "count  4.040000e+02  4.040000e+02  404.0  404.0  4.040000e+02  4.040000e+02   \n",
       "mean   6.520000e+01  4.090000e+00    1.0  296.0  1.530000e+01  3.969000e+02   \n",
       "std    1.422848e-14  8.892797e-16    0.0    0.0  1.778559e-15  5.691390e-14   \n",
       "min    6.520000e+01  4.090000e+00    1.0  296.0  1.530000e+01  3.969000e+02   \n",
       "25%    6.520000e+01  4.090000e+00    1.0  296.0  1.530000e+01  3.969000e+02   \n",
       "50%    6.520000e+01  4.090000e+00    1.0  296.0  1.530000e+01  3.969000e+02   \n",
       "75%    6.520000e+01  4.090000e+00    1.0  296.0  1.530000e+01  3.969000e+02   \n",
       "max    6.520000e+01  4.090000e+00    1.0  296.0  1.530000e+01  3.969000e+02   \n",
       "\n",
       "              LSTAT  \n",
       "count  4.040000e+02  \n",
       "mean   4.980000e+00  \n",
       "std    1.778559e-15  \n",
       "min    4.980000e+00  \n",
       "25%    4.980000e+00  \n",
       "50%    4.980000e+00  \n",
       "75%    4.980000e+00  \n",
       "max    4.980000e+00  "
      ]
     },
     "execution_count": 36,
     "metadata": {},
     "output_type": "execute_result"
    }
   ],
   "source": [
    "housing.describe()"
   ]
  },
  {
   "cell_type": "code",
   "execution_count": 37,
   "id": "1c8a3245-dd04-4030-86f2-0f42ee013c3c",
   "metadata": {},
   "outputs": [
    {
     "data": {
      "text/html": [
       "<style>#sk-container-id-1 {color: black;}#sk-container-id-1 pre{padding: 0;}#sk-container-id-1 div.sk-toggleable {background-color: white;}#sk-container-id-1 label.sk-toggleable__label {cursor: pointer;display: block;width: 100%;margin-bottom: 0;padding: 0.3em;box-sizing: border-box;text-align: center;}#sk-container-id-1 label.sk-toggleable__label-arrow:before {content: \"▸\";float: left;margin-right: 0.25em;color: #696969;}#sk-container-id-1 label.sk-toggleable__label-arrow:hover:before {color: black;}#sk-container-id-1 div.sk-estimator:hover label.sk-toggleable__label-arrow:before {color: black;}#sk-container-id-1 div.sk-toggleable__content {max-height: 0;max-width: 0;overflow: hidden;text-align: left;background-color: #f0f8ff;}#sk-container-id-1 div.sk-toggleable__content pre {margin: 0.2em;color: black;border-radius: 0.25em;background-color: #f0f8ff;}#sk-container-id-1 input.sk-toggleable__control:checked~div.sk-toggleable__content {max-height: 200px;max-width: 100%;overflow: auto;}#sk-container-id-1 input.sk-toggleable__control:checked~label.sk-toggleable__label-arrow:before {content: \"▾\";}#sk-container-id-1 div.sk-estimator input.sk-toggleable__control:checked~label.sk-toggleable__label {background-color: #d4ebff;}#sk-container-id-1 div.sk-label input.sk-toggleable__control:checked~label.sk-toggleable__label {background-color: #d4ebff;}#sk-container-id-1 input.sk-hidden--visually {border: 0;clip: rect(1px 1px 1px 1px);clip: rect(1px, 1px, 1px, 1px);height: 1px;margin: -1px;overflow: hidden;padding: 0;position: absolute;width: 1px;}#sk-container-id-1 div.sk-estimator {font-family: monospace;background-color: #f0f8ff;border: 1px dotted black;border-radius: 0.25em;box-sizing: border-box;margin-bottom: 0.5em;}#sk-container-id-1 div.sk-estimator:hover {background-color: #d4ebff;}#sk-container-id-1 div.sk-parallel-item::after {content: \"\";width: 100%;border-bottom: 1px solid gray;flex-grow: 1;}#sk-container-id-1 div.sk-label:hover label.sk-toggleable__label {background-color: #d4ebff;}#sk-container-id-1 div.sk-serial::before {content: \"\";position: absolute;border-left: 1px solid gray;box-sizing: border-box;top: 0;bottom: 0;left: 50%;z-index: 0;}#sk-container-id-1 div.sk-serial {display: flex;flex-direction: column;align-items: center;background-color: white;padding-right: 0.2em;padding-left: 0.2em;position: relative;}#sk-container-id-1 div.sk-item {position: relative;z-index: 1;}#sk-container-id-1 div.sk-parallel {display: flex;align-items: stretch;justify-content: center;background-color: white;position: relative;}#sk-container-id-1 div.sk-item::before, #sk-container-id-1 div.sk-parallel-item::before {content: \"\";position: absolute;border-left: 1px solid gray;box-sizing: border-box;top: 0;bottom: 0;left: 50%;z-index: -1;}#sk-container-id-1 div.sk-parallel-item {display: flex;flex-direction: column;z-index: 1;position: relative;background-color: white;}#sk-container-id-1 div.sk-parallel-item:first-child::after {align-self: flex-end;width: 50%;}#sk-container-id-1 div.sk-parallel-item:last-child::after {align-self: flex-start;width: 50%;}#sk-container-id-1 div.sk-parallel-item:only-child::after {width: 0;}#sk-container-id-1 div.sk-dashed-wrapped {border: 1px dashed gray;margin: 0 0.4em 0.5em 0.4em;box-sizing: border-box;padding-bottom: 0.4em;background-color: white;}#sk-container-id-1 div.sk-label label {font-family: monospace;font-weight: bold;display: inline-block;line-height: 1.2em;}#sk-container-id-1 div.sk-label-container {text-align: center;}#sk-container-id-1 div.sk-container {/* jupyter's `normalize.less` sets `[hidden] { display: none; }` but bootstrap.min.css set `[hidden] { display: none !important; }` so we also need the `!important` here to be able to override the default hidden behavior on the sphinx rendered scikit-learn.org. See: https://github.com/scikit-learn/scikit-learn/issues/21755 */display: inline-block !important;position: relative;}#sk-container-id-1 div.sk-text-repr-fallback {display: none;}</style><div id=\"sk-container-id-1\" class=\"sk-top-container\"><div class=\"sk-text-repr-fallback\"><pre>SimpleImputer(strategy=&#x27;median&#x27;)</pre><b>In a Jupyter environment, please rerun this cell to show the HTML representation or trust the notebook. <br />On GitHub, the HTML representation is unable to render, please try loading this page with nbviewer.org.</b></div><div class=\"sk-container\" hidden><div class=\"sk-item\"><div class=\"sk-estimator sk-toggleable\"><input class=\"sk-toggleable__control sk-hidden--visually\" id=\"sk-estimator-id-1\" type=\"checkbox\" checked><label for=\"sk-estimator-id-1\" class=\"sk-toggleable__label sk-toggleable__label-arrow\">SimpleImputer</label><div class=\"sk-toggleable__content\"><pre>SimpleImputer(strategy=&#x27;median&#x27;)</pre></div></div></div></div></div>"
      ],
      "text/plain": [
       "SimpleImputer(strategy='median')"
      ]
     },
     "execution_count": 37,
     "metadata": {},
     "output_type": "execute_result"
    }
   ],
   "source": [
    "from sklearn.impute import SimpleImputer\n",
    "imputer = SimpleImputer(strategy = \"median\")\n",
    "imputer.fit(housing)"
   ]
  },
  {
   "cell_type": "code",
   "execution_count": 38,
   "id": "8dc1c213-59e7-4abf-b5c6-f606f3ef5c58",
   "metadata": {},
   "outputs": [
    {
     "data": {
      "text/plain": [
       "array([6.320e-03, 1.800e+01, 2.310e+00, 0.000e+00, 5.380e-01, 6.575e+00,\n",
       "       6.520e+01, 4.090e+00, 1.000e+00, 2.960e+02, 1.530e+01, 3.969e+02,\n",
       "       4.980e+00])"
      ]
     },
     "execution_count": 38,
     "metadata": {},
     "output_type": "execute_result"
    }
   ],
   "source": [
    "imputer.statistics_"
   ]
  },
  {
   "cell_type": "code",
   "execution_count": 39,
   "id": "60691160-1fd1-43f3-84de-0bb997fbcc5a",
   "metadata": {},
   "outputs": [],
   "source": [
    "X = imputer.transform(housing)"
   ]
  },
  {
   "cell_type": "code",
   "execution_count": 40,
   "id": "b5851197-92f6-4d29-8837-8f278fb88da0",
   "metadata": {},
   "outputs": [],
   "source": [
    "housing_tr = pd.DataFrame(X, columns=housing.columns)\n",
    "                          "
   ]
  },
  {
   "cell_type": "code",
   "execution_count": 41,
   "id": "a7603ca3-7976-471d-a74f-54c334718f8b",
   "metadata": {},
   "outputs": [
    {
     "data": {
      "text/html": [
       "<div>\n",
       "<style scoped>\n",
       "    .dataframe tbody tr th:only-of-type {\n",
       "        vertical-align: middle;\n",
       "    }\n",
       "\n",
       "    .dataframe tbody tr th {\n",
       "        vertical-align: top;\n",
       "    }\n",
       "\n",
       "    .dataframe thead th {\n",
       "        text-align: right;\n",
       "    }\n",
       "</style>\n",
       "<table border=\"1\" class=\"dataframe\">\n",
       "  <thead>\n",
       "    <tr style=\"text-align: right;\">\n",
       "      <th></th>\n",
       "      <th>CRIM</th>\n",
       "      <th>ZN</th>\n",
       "      <th>INDUS</th>\n",
       "      <th>CHAS</th>\n",
       "      <th>NOX</th>\n",
       "      <th>RM</th>\n",
       "      <th>AGE</th>\n",
       "      <th>DIS</th>\n",
       "      <th>RAD</th>\n",
       "      <th>TAX</th>\n",
       "      <th>PTRATIO</th>\n",
       "      <th>B</th>\n",
       "      <th>LSTAT</th>\n",
       "    </tr>\n",
       "  </thead>\n",
       "  <tbody>\n",
       "    <tr>\n",
       "      <th>count</th>\n",
       "      <td>4.040000e+02</td>\n",
       "      <td>404.0</td>\n",
       "      <td>4.040000e+02</td>\n",
       "      <td>404.0</td>\n",
       "      <td>4.040000e+02</td>\n",
       "      <td>4.040000e+02</td>\n",
       "      <td>4.040000e+02</td>\n",
       "      <td>4.040000e+02</td>\n",
       "      <td>404.0</td>\n",
       "      <td>404.0</td>\n",
       "      <td>4.040000e+02</td>\n",
       "      <td>4.040000e+02</td>\n",
       "      <td>4.040000e+02</td>\n",
       "    </tr>\n",
       "    <tr>\n",
       "      <th>mean</th>\n",
       "      <td>6.320000e-03</td>\n",
       "      <td>18.0</td>\n",
       "      <td>2.310000e+00</td>\n",
       "      <td>0.0</td>\n",
       "      <td>5.380000e-01</td>\n",
       "      <td>6.575000e+00</td>\n",
       "      <td>6.520000e+01</td>\n",
       "      <td>4.090000e+00</td>\n",
       "      <td>1.0</td>\n",
       "      <td>296.0</td>\n",
       "      <td>1.530000e+01</td>\n",
       "      <td>3.969000e+02</td>\n",
       "      <td>4.980000e+00</td>\n",
       "    </tr>\n",
       "    <tr>\n",
       "      <th>std</th>\n",
       "      <td>8.684372e-19</td>\n",
       "      <td>0.0</td>\n",
       "      <td>4.446398e-16</td>\n",
       "      <td>0.0</td>\n",
       "      <td>1.111600e-16</td>\n",
       "      <td>2.667839e-15</td>\n",
       "      <td>1.422848e-14</td>\n",
       "      <td>8.892797e-16</td>\n",
       "      <td>0.0</td>\n",
       "      <td>0.0</td>\n",
       "      <td>1.778559e-15</td>\n",
       "      <td>5.691390e-14</td>\n",
       "      <td>1.778559e-15</td>\n",
       "    </tr>\n",
       "    <tr>\n",
       "      <th>min</th>\n",
       "      <td>6.320000e-03</td>\n",
       "      <td>18.0</td>\n",
       "      <td>2.310000e+00</td>\n",
       "      <td>0.0</td>\n",
       "      <td>5.380000e-01</td>\n",
       "      <td>6.575000e+00</td>\n",
       "      <td>6.520000e+01</td>\n",
       "      <td>4.090000e+00</td>\n",
       "      <td>1.0</td>\n",
       "      <td>296.0</td>\n",
       "      <td>1.530000e+01</td>\n",
       "      <td>3.969000e+02</td>\n",
       "      <td>4.980000e+00</td>\n",
       "    </tr>\n",
       "    <tr>\n",
       "      <th>25%</th>\n",
       "      <td>6.320000e-03</td>\n",
       "      <td>18.0</td>\n",
       "      <td>2.310000e+00</td>\n",
       "      <td>0.0</td>\n",
       "      <td>5.380000e-01</td>\n",
       "      <td>6.575000e+00</td>\n",
       "      <td>6.520000e+01</td>\n",
       "      <td>4.090000e+00</td>\n",
       "      <td>1.0</td>\n",
       "      <td>296.0</td>\n",
       "      <td>1.530000e+01</td>\n",
       "      <td>3.969000e+02</td>\n",
       "      <td>4.980000e+00</td>\n",
       "    </tr>\n",
       "    <tr>\n",
       "      <th>50%</th>\n",
       "      <td>6.320000e-03</td>\n",
       "      <td>18.0</td>\n",
       "      <td>2.310000e+00</td>\n",
       "      <td>0.0</td>\n",
       "      <td>5.380000e-01</td>\n",
       "      <td>6.575000e+00</td>\n",
       "      <td>6.520000e+01</td>\n",
       "      <td>4.090000e+00</td>\n",
       "      <td>1.0</td>\n",
       "      <td>296.0</td>\n",
       "      <td>1.530000e+01</td>\n",
       "      <td>3.969000e+02</td>\n",
       "      <td>4.980000e+00</td>\n",
       "    </tr>\n",
       "    <tr>\n",
       "      <th>75%</th>\n",
       "      <td>6.320000e-03</td>\n",
       "      <td>18.0</td>\n",
       "      <td>2.310000e+00</td>\n",
       "      <td>0.0</td>\n",
       "      <td>5.380000e-01</td>\n",
       "      <td>6.575000e+00</td>\n",
       "      <td>6.520000e+01</td>\n",
       "      <td>4.090000e+00</td>\n",
       "      <td>1.0</td>\n",
       "      <td>296.0</td>\n",
       "      <td>1.530000e+01</td>\n",
       "      <td>3.969000e+02</td>\n",
       "      <td>4.980000e+00</td>\n",
       "    </tr>\n",
       "    <tr>\n",
       "      <th>max</th>\n",
       "      <td>6.320000e-03</td>\n",
       "      <td>18.0</td>\n",
       "      <td>2.310000e+00</td>\n",
       "      <td>0.0</td>\n",
       "      <td>5.380000e-01</td>\n",
       "      <td>6.575000e+00</td>\n",
       "      <td>6.520000e+01</td>\n",
       "      <td>4.090000e+00</td>\n",
       "      <td>1.0</td>\n",
       "      <td>296.0</td>\n",
       "      <td>1.530000e+01</td>\n",
       "      <td>3.969000e+02</td>\n",
       "      <td>4.980000e+00</td>\n",
       "    </tr>\n",
       "  </tbody>\n",
       "</table>\n",
       "</div>"
      ],
      "text/plain": [
       "               CRIM     ZN         INDUS   CHAS           NOX            RM  \\\n",
       "count  4.040000e+02  404.0  4.040000e+02  404.0  4.040000e+02  4.040000e+02   \n",
       "mean   6.320000e-03   18.0  2.310000e+00    0.0  5.380000e-01  6.575000e+00   \n",
       "std    8.684372e-19    0.0  4.446398e-16    0.0  1.111600e-16  2.667839e-15   \n",
       "min    6.320000e-03   18.0  2.310000e+00    0.0  5.380000e-01  6.575000e+00   \n",
       "25%    6.320000e-03   18.0  2.310000e+00    0.0  5.380000e-01  6.575000e+00   \n",
       "50%    6.320000e-03   18.0  2.310000e+00    0.0  5.380000e-01  6.575000e+00   \n",
       "75%    6.320000e-03   18.0  2.310000e+00    0.0  5.380000e-01  6.575000e+00   \n",
       "max    6.320000e-03   18.0  2.310000e+00    0.0  5.380000e-01  6.575000e+00   \n",
       "\n",
       "                AGE           DIS    RAD    TAX       PTRATIO             B  \\\n",
       "count  4.040000e+02  4.040000e+02  404.0  404.0  4.040000e+02  4.040000e+02   \n",
       "mean   6.520000e+01  4.090000e+00    1.0  296.0  1.530000e+01  3.969000e+02   \n",
       "std    1.422848e-14  8.892797e-16    0.0    0.0  1.778559e-15  5.691390e-14   \n",
       "min    6.520000e+01  4.090000e+00    1.0  296.0  1.530000e+01  3.969000e+02   \n",
       "25%    6.520000e+01  4.090000e+00    1.0  296.0  1.530000e+01  3.969000e+02   \n",
       "50%    6.520000e+01  4.090000e+00    1.0  296.0  1.530000e+01  3.969000e+02   \n",
       "75%    6.520000e+01  4.090000e+00    1.0  296.0  1.530000e+01  3.969000e+02   \n",
       "max    6.520000e+01  4.090000e+00    1.0  296.0  1.530000e+01  3.969000e+02   \n",
       "\n",
       "              LSTAT  \n",
       "count  4.040000e+02  \n",
       "mean   4.980000e+00  \n",
       "std    1.778559e-15  \n",
       "min    4.980000e+00  \n",
       "25%    4.980000e+00  \n",
       "50%    4.980000e+00  \n",
       "75%    4.980000e+00  \n",
       "max    4.980000e+00  "
      ]
     },
     "execution_count": 41,
     "metadata": {},
     "output_type": "execute_result"
    }
   ],
   "source": [
    "housing_tr.describe()"
   ]
  },
  {
   "cell_type": "markdown",
   "id": "982ce0b6-599e-41a8-b6ac-44b2efecab3b",
   "metadata": {},
   "source": [
    "## Scikit-learn Design"
   ]
  },
  {
   "cell_type": "markdown",
   "id": "36a33a99-1d37-4107-9402-af12b1731d36",
   "metadata": {},
   "source": [
    "Primarily, three types of objects\r\n",
    "\r\n",
    "Estimators - It estimates some parameter based on a dataset. Eg. imputer. It has a fit method and transform method. Fit method - Fits the dataset and calculates internal parameters\r\n",
    "\r\n",
    "Transformers - transform method takes input and returns output based on the learnings from fit(). It also has a convenience function called fit_transform() which fits and then transforms.\r\n",
    "\r\n",
    "Predictors - LinearRegression model is an example of predictor. fit() and predict() are two common functions. It also gives score() function which will evaluate the predictions.\n"
   ]
  },
  {
   "cell_type": "markdown",
   "id": "9eeca0b3-0f56-4c81-b8a2-9be5109eb7ee",
   "metadata": {},
   "source": [
    "## Feature Scaling\n"
   ]
  },
  {
   "cell_type": "markdown",
   "id": "b339cdcc-0ada-4d95-a6f9-86af1203662d",
   "metadata": {},
   "source": [
    "## Creating a Pipeline"
   ]
  },
  {
   "cell_type": "code",
   "execution_count": 42,
   "id": "7035059e-03a7-42ef-9476-3e4f27b8faa5",
   "metadata": {},
   "outputs": [],
   "source": [
    "from sklearn.pipeline import Pipeline\n",
    "from sklearn.preprocessing import StandardScaler\n",
    "my_pipeline = Pipeline([\n",
    "     ('imputer', SimpleImputer(strategy=\"median\")),\n",
    "      # ...... add as many as you want in your pipeline\n",
    "      ('std_scaler', StandardScaler()),\n",
    "      ])"
   ]
  },
  {
   "cell_type": "code",
   "execution_count": 43,
   "id": "d8c0862a-d115-4ad8-9491-5c271d34de04",
   "metadata": {},
   "outputs": [],
   "source": [
    "housing_num_tr = my_pipeline.fit_transform(housing)"
   ]
  },
  {
   "cell_type": "code",
   "execution_count": 44,
   "id": "752fe03c-db5b-4fa3-84c4-de10b19d4f91",
   "metadata": {},
   "outputs": [
    {
     "data": {
      "text/plain": [
       "(404, 13)"
      ]
     },
     "execution_count": 44,
     "metadata": {},
     "output_type": "execute_result"
    }
   ],
   "source": [
    "housing_num_tr.shape"
   ]
  },
  {
   "cell_type": "markdown",
   "id": "f62a494d-b01c-4c35-83d2-9d4b1c467013",
   "metadata": {},
   "source": [
    "## Selecting a desired model for Dragon Real Estates"
   ]
  },
  {
   "cell_type": "code",
   "execution_count": 45,
   "id": "70db0c39-80de-42e4-b61d-2f512daf789c",
   "metadata": {},
   "outputs": [
    {
     "data": {
      "text/html": [
       "<style>#sk-container-id-2 {color: black;}#sk-container-id-2 pre{padding: 0;}#sk-container-id-2 div.sk-toggleable {background-color: white;}#sk-container-id-2 label.sk-toggleable__label {cursor: pointer;display: block;width: 100%;margin-bottom: 0;padding: 0.3em;box-sizing: border-box;text-align: center;}#sk-container-id-2 label.sk-toggleable__label-arrow:before {content: \"▸\";float: left;margin-right: 0.25em;color: #696969;}#sk-container-id-2 label.sk-toggleable__label-arrow:hover:before {color: black;}#sk-container-id-2 div.sk-estimator:hover label.sk-toggleable__label-arrow:before {color: black;}#sk-container-id-2 div.sk-toggleable__content {max-height: 0;max-width: 0;overflow: hidden;text-align: left;background-color: #f0f8ff;}#sk-container-id-2 div.sk-toggleable__content pre {margin: 0.2em;color: black;border-radius: 0.25em;background-color: #f0f8ff;}#sk-container-id-2 input.sk-toggleable__control:checked~div.sk-toggleable__content {max-height: 200px;max-width: 100%;overflow: auto;}#sk-container-id-2 input.sk-toggleable__control:checked~label.sk-toggleable__label-arrow:before {content: \"▾\";}#sk-container-id-2 div.sk-estimator input.sk-toggleable__control:checked~label.sk-toggleable__label {background-color: #d4ebff;}#sk-container-id-2 div.sk-label input.sk-toggleable__control:checked~label.sk-toggleable__label {background-color: #d4ebff;}#sk-container-id-2 input.sk-hidden--visually {border: 0;clip: rect(1px 1px 1px 1px);clip: rect(1px, 1px, 1px, 1px);height: 1px;margin: -1px;overflow: hidden;padding: 0;position: absolute;width: 1px;}#sk-container-id-2 div.sk-estimator {font-family: monospace;background-color: #f0f8ff;border: 1px dotted black;border-radius: 0.25em;box-sizing: border-box;margin-bottom: 0.5em;}#sk-container-id-2 div.sk-estimator:hover {background-color: #d4ebff;}#sk-container-id-2 div.sk-parallel-item::after {content: \"\";width: 100%;border-bottom: 1px solid gray;flex-grow: 1;}#sk-container-id-2 div.sk-label:hover label.sk-toggleable__label {background-color: #d4ebff;}#sk-container-id-2 div.sk-serial::before {content: \"\";position: absolute;border-left: 1px solid gray;box-sizing: border-box;top: 0;bottom: 0;left: 50%;z-index: 0;}#sk-container-id-2 div.sk-serial {display: flex;flex-direction: column;align-items: center;background-color: white;padding-right: 0.2em;padding-left: 0.2em;position: relative;}#sk-container-id-2 div.sk-item {position: relative;z-index: 1;}#sk-container-id-2 div.sk-parallel {display: flex;align-items: stretch;justify-content: center;background-color: white;position: relative;}#sk-container-id-2 div.sk-item::before, #sk-container-id-2 div.sk-parallel-item::before {content: \"\";position: absolute;border-left: 1px solid gray;box-sizing: border-box;top: 0;bottom: 0;left: 50%;z-index: -1;}#sk-container-id-2 div.sk-parallel-item {display: flex;flex-direction: column;z-index: 1;position: relative;background-color: white;}#sk-container-id-2 div.sk-parallel-item:first-child::after {align-self: flex-end;width: 50%;}#sk-container-id-2 div.sk-parallel-item:last-child::after {align-self: flex-start;width: 50%;}#sk-container-id-2 div.sk-parallel-item:only-child::after {width: 0;}#sk-container-id-2 div.sk-dashed-wrapped {border: 1px dashed gray;margin: 0 0.4em 0.5em 0.4em;box-sizing: border-box;padding-bottom: 0.4em;background-color: white;}#sk-container-id-2 div.sk-label label {font-family: monospace;font-weight: bold;display: inline-block;line-height: 1.2em;}#sk-container-id-2 div.sk-label-container {text-align: center;}#sk-container-id-2 div.sk-container {/* jupyter's `normalize.less` sets `[hidden] { display: none; }` but bootstrap.min.css set `[hidden] { display: none !important; }` so we also need the `!important` here to be able to override the default hidden behavior on the sphinx rendered scikit-learn.org. See: https://github.com/scikit-learn/scikit-learn/issues/21755 */display: inline-block !important;position: relative;}#sk-container-id-2 div.sk-text-repr-fallback {display: none;}</style><div id=\"sk-container-id-2\" class=\"sk-top-container\"><div class=\"sk-text-repr-fallback\"><pre>RandomForestRegressor()</pre><b>In a Jupyter environment, please rerun this cell to show the HTML representation or trust the notebook. <br />On GitHub, the HTML representation is unable to render, please try loading this page with nbviewer.org.</b></div><div class=\"sk-container\" hidden><div class=\"sk-item\"><div class=\"sk-estimator sk-toggleable\"><input class=\"sk-toggleable__control sk-hidden--visually\" id=\"sk-estimator-id-2\" type=\"checkbox\" checked><label for=\"sk-estimator-id-2\" class=\"sk-toggleable__label sk-toggleable__label-arrow\">RandomForestRegressor</label><div class=\"sk-toggleable__content\"><pre>RandomForestRegressor()</pre></div></div></div></div></div>"
      ],
      "text/plain": [
       "RandomForestRegressor()"
      ]
     },
     "execution_count": 45,
     "metadata": {},
     "output_type": "execute_result"
    }
   ],
   "source": [
    "from sklearn.linear_model import LinearRegression\n",
    "from sklearn.tree import DecisionTreeRegressor\n",
    "from sklearn.ensemble import RandomForestRegressor\n",
    "#model = LinearRegression()\n",
    "#model = DecisionTreeRegressor()\n",
    "model = RandomForestRegressor()\n",
    "model.fit(housing_num_tr, housing_labels)"
   ]
  },
  {
   "cell_type": "code",
   "execution_count": 46,
   "id": "6655a856-bb17-43d5-bdd1-91b061d1e7bc",
   "metadata": {},
   "outputs": [],
   "source": [
    "some_data = housing.iloc[:5]"
   ]
  },
  {
   "cell_type": "code",
   "execution_count": 47,
   "id": "ebabf8f7-c3db-4fc2-848a-66f2badb6e67",
   "metadata": {},
   "outputs": [],
   "source": [
    "some_labels = housing_labels.iloc[:5]"
   ]
  },
  {
   "cell_type": "code",
   "execution_count": 48,
   "id": "3295fbc0-a14b-4a33-85f7-d28cea64d763",
   "metadata": {},
   "outputs": [],
   "source": [
    "prepared_data = my_pipeline.transform(some_data)"
   ]
  },
  {
   "cell_type": "code",
   "execution_count": 49,
   "id": "5adbd438-5364-4a2b-ae4e-98fc30536820",
   "metadata": {},
   "outputs": [
    {
     "data": {
      "text/plain": [
       "array([24.33543933, 24.33543933, 24.33543933, 24.33543933, 24.33543933])"
      ]
     },
     "execution_count": 49,
     "metadata": {},
     "output_type": "execute_result"
    }
   ],
   "source": [
    "model.predict(prepared_data)"
   ]
  },
  {
   "cell_type": "code",
   "execution_count": 50,
   "id": "4261303f-93b4-4402-90ef-43ff05493cf7",
   "metadata": {},
   "outputs": [
    {
     "data": {
      "text/plain": [
       "[24.242, 24.354, 24.44, 24.177, 24.73]"
      ]
     },
     "execution_count": 50,
     "metadata": {},
     "output_type": "execute_result"
    }
   ],
   "source": [
    "list(some_labels)"
   ]
  },
  {
   "cell_type": "markdown",
   "id": "2bb1321f-5648-4132-a655-dc71706c3e9f",
   "metadata": {},
   "source": [
    "## Evaluating the model"
   ]
  },
  {
   "cell_type": "code",
   "execution_count": 51,
   "id": "d04977e1-b959-4fc8-bbd7-f4ae52ed0386",
   "metadata": {},
   "outputs": [],
   "source": [
    "from sklearn.metrics import mean_squared_error\n",
    "housing_predictions = model.predict(housing_num_tr)\n",
    "mse = mean_squared_error(housing_labels, housing_predictions)\n",
    "rmse = np.sqrt(mse)"
   ]
  },
  {
   "cell_type": "code",
   "execution_count": 52,
   "id": "dcb36366-c388-476a-9733-6d1a03402cad",
   "metadata": {},
   "outputs": [
    {
     "data": {
      "text/plain": [
       "0.03368136779629508"
      ]
     },
     "execution_count": 52,
     "metadata": {},
     "output_type": "execute_result"
    }
   ],
   "source": [
    "mse"
   ]
  },
  {
   "cell_type": "markdown",
   "id": "3a77e278-bf6a-4a18-bc97-28652983c397",
   "metadata": {},
   "source": [
    "## Using better evaluation technique -Cross Validation"
   ]
  },
  {
   "cell_type": "code",
   "execution_count": 53,
   "id": "a6b790f0-85be-46a0-80cc-28deb190a40b",
   "metadata": {},
   "outputs": [],
   "source": [
    "# 1 2 3 4 5 6 7 8 9 10\n",
    "from sklearn.model_selection import cross_val_score\n",
    "scores = cross_val_score(model, housing_num_tr, housing_labels, scoring=\"neg_mean_squared_error\", cv=10 )\n",
    "rmse_scores = np.sqrt(-scores)"
   ]
  },
  {
   "cell_type": "code",
   "execution_count": 54,
   "id": "777e8b9f-f5cb-4ee9-85c6-71a1e95b28b8",
   "metadata": {},
   "outputs": [
    {
     "data": {
      "text/plain": [
       "array([0.17773378, 0.19100071, 0.15033994, 0.19072616, 0.22987888,\n",
       "       0.18693099, 0.15898357, 0.17764601, 0.16741116, 0.19724073])"
      ]
     },
     "execution_count": 54,
     "metadata": {},
     "output_type": "execute_result"
    }
   ],
   "source": [
    "rmse_scores"
   ]
  },
  {
   "cell_type": "code",
   "execution_count": 55,
   "id": "6ad986cd-fdfd-4bf0-82c8-df6e937d41e2",
   "metadata": {},
   "outputs": [],
   "source": [
    "def print_scores(scores):\n",
    "    print(\"Scores:\", scores)\n",
    "    print(\"Mean: \", scores.mean())\n",
    "    print(\"Standard deviations: \",scores.std())"
   ]
  },
  {
   "cell_type": "code",
   "execution_count": 56,
   "id": "09c8c201-6282-43dd-b3ed-d72354a6c0c3",
   "metadata": {},
   "outputs": [
    {
     "name": "stdout",
     "output_type": "stream",
     "text": [
      "Scores: [0.17773378 0.19100071 0.15033994 0.19072616 0.22987888 0.18693099\n",
      " 0.15898357 0.17764601 0.16741116 0.19724073]\n",
      "Mean:  0.18278919264769422\n",
      "Standard deviations:  0.021170780110465272\n"
     ]
    }
   ],
   "source": [
    "print_scores(rmse_scores)"
   ]
  },
  {
   "cell_type": "markdown",
   "id": "c5cddb56-ac01-46b4-bc86-c18f53be2532",
   "metadata": {},
   "source": [
    "## Saving the model"
   ]
  },
  {
   "cell_type": "code",
   "execution_count": 57,
   "id": "174953c8-4da8-4685-8dc1-c9f2a83cbbd8",
   "metadata": {},
   "outputs": [
    {
     "data": {
      "text/plain": [
       "['Dragon.joblib']"
      ]
     },
     "execution_count": 57,
     "metadata": {},
     "output_type": "execute_result"
    }
   ],
   "source": [
    "from joblib import dump, load\n",
    "dump(model, 'Dragon.joblib')"
   ]
  },
  {
   "cell_type": "markdown",
   "id": "835fda7d-a026-4d6c-89f5-a3288250af83",
   "metadata": {},
   "source": [
    "## Testing the model on test data"
   ]
  },
  {
   "cell_type": "code",
   "execution_count": 58,
   "id": "098b2606-6250-498d-88bf-d934f5678f79",
   "metadata": {},
   "outputs": [],
   "source": [
    "X_test = strat_test_set.drop(\"MEDV\", axis=1)\n",
    "Y_test = strat_test_set[\"MEDV\"].copy()\n",
    "\n",
    "X_test_prepared = my_pipeline.transform(X_test)\n",
    "\n",
    "\n",
    "final_predictions = model.predict(X_test_prepared)\n",
    "final_mse = mean_squared_error(Y_test, final_predictions)\n",
    "final_rmse = np.sqrt(final_mse)\n",
    "#print(final_predictions,list(Y_test))\n"
   ]
  },
  {
   "cell_type": "code",
   "execution_count": 59,
   "id": "8008829a-6699-45a2-b432-416f5d0956ba",
   "metadata": {},
   "outputs": [
    {
     "data": {
      "text/plain": [
       "0.17955870261347964"
      ]
     },
     "execution_count": 59,
     "metadata": {},
     "output_type": "execute_result"
    }
   ],
   "source": [
    "final_rmse"
   ]
  },
  {
   "cell_type": "code",
   "execution_count": 64,
   "id": "a04ee996-0af2-480f-8450-f342ab3ba05e",
   "metadata": {},
   "outputs": [
    {
     "data": {
      "text/plain": [
       "array([-8.67361738e-19,  0.00000000e+00,  4.44089210e-16,  0.00000000e+00,\n",
       "       -1.11022302e-16, -2.66453526e-15, -1.42108547e-14, -8.88178420e-16,\n",
       "        0.00000000e+00,  0.00000000e+00, -1.77635684e-15, -5.68434189e-14,\n",
       "       -1.77635684e-15])"
      ]
     },
     "execution_count": 64,
     "metadata": {},
     "output_type": "execute_result"
    }
   ],
   "source": [
    "prepared_data[0]"
   ]
  },
  {
   "cell_type": "markdown",
   "id": "9ba97501-a187-4634-be37-a52356768f65",
   "metadata": {},
   "source": [
    "## Using the model"
   ]
  },
  {
   "cell_type": "code",
   "execution_count": 62,
   "id": "e4ce2a17-2094-406d-b6dc-73d0c85560c4",
   "metadata": {},
   "outputs": [
    {
     "data": {
      "text/plain": [
       "array([24.33543933])"
      ]
     },
     "execution_count": 62,
     "metadata": {},
     "output_type": "execute_result"
    }
   ],
   "source": [
    "from joblib import dump, load\n",
    "import numpy as np\n",
    "model = load('Dragon.joblib')\n",
    "features = np.array([[-9.67361738e-19,  0.00000000e+00,  1.3333389210e-16,  7.9999000000e+00,\n",
    "       -2.1122022302e-16, -2.99999953526e-15, -6.42108547e-14, -8.88178420e-16,\n",
    "        0.10000000e+00,  0.00000000e+00, -1.77635684e-15, -5.68434189e-14,\n",
    "       -1.77635684e-15]])\n",
    "model.predict(features)"
   ]
  },
  {
   "cell_type": "code",
   "execution_count": null,
   "id": "032cd672-9341-467b-a61e-ed8dfb4710c7",
   "metadata": {},
   "outputs": [],
   "source": []
  }
 ],
 "metadata": {
  "kernelspec": {
   "display_name": "Python 3 (ipykernel)",
   "language": "python",
   "name": "python3"
  },
  "language_info": {
   "codemirror_mode": {
    "name": "ipython",
    "version": 3
   },
   "file_extension": ".py",
   "mimetype": "text/x-python",
   "name": "python",
   "nbconvert_exporter": "python",
   "pygments_lexer": "ipython3",
   "version": "3.11.5"
  },
  "widgets": {
   "application/vnd.jupyter.widget-state+json": {
    "state": {},
    "version_major": 2,
    "version_minor": 0
   }
  }
 },
 "nbformat": 4,
 "nbformat_minor": 5
}
